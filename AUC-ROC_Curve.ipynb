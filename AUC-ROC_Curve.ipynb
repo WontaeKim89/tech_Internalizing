{
 "cells": [
  {
   "cell_type": "code",
   "execution_count": 521,
   "id": "005f8d19",
   "metadata": {},
   "outputs": [],
   "source": [
    "import pandas as pd\n",
    "import numpy as np\n",
    "\n",
    "import torch\n",
    "import torch.nn as nn\n",
    "import torch.optim as optim\n",
    "import torch.nn.functional as F"
   ]
  },
  {
   "cell_type": "code",
   "execution_count": 824,
   "id": "326e5da9",
   "metadata": {},
   "outputs": [],
   "source": [
    "from torch.utils.data import Dataset, DataLoader"
   ]
  },
  {
   "cell_type": "code",
   "execution_count": 985,
   "id": "678702ae",
   "metadata": {},
   "outputs": [
    {
     "data": {
      "text/html": [
       "<div>\n",
       "<style scoped>\n",
       "    .dataframe tbody tr th:only-of-type {\n",
       "        vertical-align: middle;\n",
       "    }\n",
       "\n",
       "    .dataframe tbody tr th {\n",
       "        vertical-align: top;\n",
       "    }\n",
       "\n",
       "    .dataframe thead th {\n",
       "        text-align: right;\n",
       "    }\n",
       "</style>\n",
       "<table border=\"1\" class=\"dataframe\">\n",
       "  <thead>\n",
       "    <tr style=\"text-align: right;\">\n",
       "      <th></th>\n",
       "      <th>mean radius</th>\n",
       "      <th>mean texture</th>\n",
       "      <th>mean perimeter</th>\n",
       "      <th>mean area</th>\n",
       "      <th>mean smoothness</th>\n",
       "      <th>mean compactness</th>\n",
       "      <th>mean concavity</th>\n",
       "      <th>mean concave points</th>\n",
       "      <th>mean symmetry</th>\n",
       "      <th>mean fractal dimension</th>\n",
       "      <th>...</th>\n",
       "      <th>worst texture</th>\n",
       "      <th>worst perimeter</th>\n",
       "      <th>worst area</th>\n",
       "      <th>worst smoothness</th>\n",
       "      <th>worst compactness</th>\n",
       "      <th>worst concavity</th>\n",
       "      <th>worst concave points</th>\n",
       "      <th>worst symmetry</th>\n",
       "      <th>worst fractal dimension</th>\n",
       "      <th>class</th>\n",
       "    </tr>\n",
       "  </thead>\n",
       "  <tbody>\n",
       "    <tr>\n",
       "      <th>564</th>\n",
       "      <td>21.56</td>\n",
       "      <td>22.39</td>\n",
       "      <td>142.00</td>\n",
       "      <td>1479.0</td>\n",
       "      <td>0.11100</td>\n",
       "      <td>0.11590</td>\n",
       "      <td>0.24390</td>\n",
       "      <td>0.13890</td>\n",
       "      <td>0.1726</td>\n",
       "      <td>0.05623</td>\n",
       "      <td>...</td>\n",
       "      <td>26.40</td>\n",
       "      <td>166.10</td>\n",
       "      <td>2027.0</td>\n",
       "      <td>0.14100</td>\n",
       "      <td>0.21130</td>\n",
       "      <td>0.4107</td>\n",
       "      <td>0.2216</td>\n",
       "      <td>0.2060</td>\n",
       "      <td>0.07115</td>\n",
       "      <td>0</td>\n",
       "    </tr>\n",
       "    <tr>\n",
       "      <th>565</th>\n",
       "      <td>20.13</td>\n",
       "      <td>28.25</td>\n",
       "      <td>131.20</td>\n",
       "      <td>1261.0</td>\n",
       "      <td>0.09780</td>\n",
       "      <td>0.10340</td>\n",
       "      <td>0.14400</td>\n",
       "      <td>0.09791</td>\n",
       "      <td>0.1752</td>\n",
       "      <td>0.05533</td>\n",
       "      <td>...</td>\n",
       "      <td>38.25</td>\n",
       "      <td>155.00</td>\n",
       "      <td>1731.0</td>\n",
       "      <td>0.11660</td>\n",
       "      <td>0.19220</td>\n",
       "      <td>0.3215</td>\n",
       "      <td>0.1628</td>\n",
       "      <td>0.2572</td>\n",
       "      <td>0.06637</td>\n",
       "      <td>0</td>\n",
       "    </tr>\n",
       "    <tr>\n",
       "      <th>566</th>\n",
       "      <td>16.60</td>\n",
       "      <td>28.08</td>\n",
       "      <td>108.30</td>\n",
       "      <td>858.1</td>\n",
       "      <td>0.08455</td>\n",
       "      <td>0.10230</td>\n",
       "      <td>0.09251</td>\n",
       "      <td>0.05302</td>\n",
       "      <td>0.1590</td>\n",
       "      <td>0.05648</td>\n",
       "      <td>...</td>\n",
       "      <td>34.12</td>\n",
       "      <td>126.70</td>\n",
       "      <td>1124.0</td>\n",
       "      <td>0.11390</td>\n",
       "      <td>0.30940</td>\n",
       "      <td>0.3403</td>\n",
       "      <td>0.1418</td>\n",
       "      <td>0.2218</td>\n",
       "      <td>0.07820</td>\n",
       "      <td>0</td>\n",
       "    </tr>\n",
       "    <tr>\n",
       "      <th>567</th>\n",
       "      <td>20.60</td>\n",
       "      <td>29.33</td>\n",
       "      <td>140.10</td>\n",
       "      <td>1265.0</td>\n",
       "      <td>0.11780</td>\n",
       "      <td>0.27700</td>\n",
       "      <td>0.35140</td>\n",
       "      <td>0.15200</td>\n",
       "      <td>0.2397</td>\n",
       "      <td>0.07016</td>\n",
       "      <td>...</td>\n",
       "      <td>39.42</td>\n",
       "      <td>184.60</td>\n",
       "      <td>1821.0</td>\n",
       "      <td>0.16500</td>\n",
       "      <td>0.86810</td>\n",
       "      <td>0.9387</td>\n",
       "      <td>0.2650</td>\n",
       "      <td>0.4087</td>\n",
       "      <td>0.12400</td>\n",
       "      <td>0</td>\n",
       "    </tr>\n",
       "    <tr>\n",
       "      <th>568</th>\n",
       "      <td>7.76</td>\n",
       "      <td>24.54</td>\n",
       "      <td>47.92</td>\n",
       "      <td>181.0</td>\n",
       "      <td>0.05263</td>\n",
       "      <td>0.04362</td>\n",
       "      <td>0.00000</td>\n",
       "      <td>0.00000</td>\n",
       "      <td>0.1587</td>\n",
       "      <td>0.05884</td>\n",
       "      <td>...</td>\n",
       "      <td>30.37</td>\n",
       "      <td>59.16</td>\n",
       "      <td>268.6</td>\n",
       "      <td>0.08996</td>\n",
       "      <td>0.06444</td>\n",
       "      <td>0.0000</td>\n",
       "      <td>0.0000</td>\n",
       "      <td>0.2871</td>\n",
       "      <td>0.07039</td>\n",
       "      <td>1</td>\n",
       "    </tr>\n",
       "  </tbody>\n",
       "</table>\n",
       "<p>5 rows × 31 columns</p>\n",
       "</div>"
      ],
      "text/plain": [
       "     mean radius  mean texture  mean perimeter  mean area  mean smoothness  \\\n",
       "564        21.56         22.39          142.00     1479.0          0.11100   \n",
       "565        20.13         28.25          131.20     1261.0          0.09780   \n",
       "566        16.60         28.08          108.30      858.1          0.08455   \n",
       "567        20.60         29.33          140.10     1265.0          0.11780   \n",
       "568         7.76         24.54           47.92      181.0          0.05263   \n",
       "\n",
       "     mean compactness  mean concavity  mean concave points  mean symmetry  \\\n",
       "564           0.11590         0.24390              0.13890         0.1726   \n",
       "565           0.10340         0.14400              0.09791         0.1752   \n",
       "566           0.10230         0.09251              0.05302         0.1590   \n",
       "567           0.27700         0.35140              0.15200         0.2397   \n",
       "568           0.04362         0.00000              0.00000         0.1587   \n",
       "\n",
       "     mean fractal dimension  ...  worst texture  worst perimeter  worst area  \\\n",
       "564                 0.05623  ...          26.40           166.10      2027.0   \n",
       "565                 0.05533  ...          38.25           155.00      1731.0   \n",
       "566                 0.05648  ...          34.12           126.70      1124.0   \n",
       "567                 0.07016  ...          39.42           184.60      1821.0   \n",
       "568                 0.05884  ...          30.37            59.16       268.6   \n",
       "\n",
       "     worst smoothness  worst compactness  worst concavity  \\\n",
       "564           0.14100            0.21130           0.4107   \n",
       "565           0.11660            0.19220           0.3215   \n",
       "566           0.11390            0.30940           0.3403   \n",
       "567           0.16500            0.86810           0.9387   \n",
       "568           0.08996            0.06444           0.0000   \n",
       "\n",
       "     worst concave points  worst symmetry  worst fractal dimension  class  \n",
       "564                0.2216          0.2060                  0.07115      0  \n",
       "565                0.1628          0.2572                  0.06637      0  \n",
       "566                0.1418          0.2218                  0.07820      0  \n",
       "567                0.2650          0.4087                  0.12400      0  \n",
       "568                0.0000          0.2871                  0.07039      1  \n",
       "\n",
       "[5 rows x 31 columns]"
      ]
     },
     "execution_count": 985,
     "metadata": {},
     "output_type": "execute_result"
    }
   ],
   "source": [
    "from sklearn.datasets import load_breast_cancer\n",
    "cancer = load_breast_cancer()\n",
    "\n",
    "df = pd.DataFrame(cancer.data, columns=cancer.feature_names)\n",
    "df['class'] = cancer.target\n",
    "\n",
    "df.tail()"
   ]
  },
  {
   "cell_type": "code",
   "execution_count": 986,
   "id": "0f3357e3",
   "metadata": {},
   "outputs": [
    {
     "data": {
      "text/plain": [
       "tensor([[1.7990e+01, 1.0380e+01, 1.2280e+02,  ..., 4.6010e-01, 1.1890e-01,\n",
       "         0.0000e+00],\n",
       "        [2.0570e+01, 1.7770e+01, 1.3290e+02,  ..., 2.7500e-01, 8.9020e-02,\n",
       "         0.0000e+00],\n",
       "        [1.9690e+01, 2.1250e+01, 1.3000e+02,  ..., 3.6130e-01, 8.7580e-02,\n",
       "         0.0000e+00],\n",
       "        ...,\n",
       "        [1.6600e+01, 2.8080e+01, 1.0830e+02,  ..., 2.2180e-01, 7.8200e-02,\n",
       "         0.0000e+00],\n",
       "        [2.0600e+01, 2.9330e+01, 1.4010e+02,  ..., 4.0870e-01, 1.2400e-01,\n",
       "         0.0000e+00],\n",
       "        [7.7600e+00, 2.4540e+01, 4.7920e+01,  ..., 2.8710e-01, 7.0390e-02,\n",
       "         1.0000e+00]])"
      ]
     },
     "execution_count": 986,
     "metadata": {},
     "output_type": "execute_result"
    }
   ],
   "source": [
    "data = torch.from_numpy(df.values).float()\n",
    "data"
   ]
  },
  {
   "cell_type": "code",
   "execution_count": 987,
   "id": "f6d028bc",
   "metadata": {},
   "outputs": [
    {
     "name": "stdout",
     "output_type": "stream",
     "text": [
      "torch.Size([569, 10]) torch.Size([569, 1])\n"
     ]
    }
   ],
   "source": [
    "x = data[:, :10]\n",
    "y = data[:, -1:]\n",
    "print(x.size(), y.size())"
   ]
  },
  {
   "cell_type": "code",
   "execution_count": 988,
   "id": "46416ac3",
   "metadata": {},
   "outputs": [
    {
     "data": {
      "text/plain": [
       "569"
      ]
     },
     "execution_count": 988,
     "metadata": {},
     "output_type": "execute_result"
    }
   ],
   "source": [
    "indices = torch.randperm(x.size(0))\n",
    "len(indices)"
   ]
  },
  {
   "cell_type": "code",
   "execution_count": 989,
   "id": "dcc69f18",
   "metadata": {},
   "outputs": [
    {
     "name": "stdout",
     "output_type": "stream",
     "text": [
      "Train_cnt : 341 / Valid_cnt : 113 / Test_cnt : 115\n"
     ]
    }
   ],
   "source": [
    "ratio = [.6, .2, .2]\n",
    "train_cnt = int(x.size(0) * ratio[0])\n",
    "valid_cnt = int(x.size(0) * ratio[1])\n",
    "test_cnt = x.size(0) - train_cnt - valid_cnt\n",
    "\n",
    "print(f'Train_cnt : {train_cnt} / Valid_cnt : {valid_cnt} / Test_cnt : {test_cnt}')"
   ]
  },
  {
   "cell_type": "code",
   "execution_count": 990,
   "id": "b89faa3a",
   "metadata": {},
   "outputs": [
    {
     "name": "stdout",
     "output_type": "stream",
     "text": [
      "torch.Size([341, 10]) torch.Size([341, 1])\n",
      "torch.Size([113, 10]) torch.Size([113, 1])\n",
      "torch.Size([115, 10]) torch.Size([115, 1])\n"
     ]
    }
   ],
   "source": [
    "x = torch.index_select(x, dim=0, index=indices).split([train_cnt, valid_cnt, test_cnt], dim=0)\n",
    "y = torch.index_select(y, dim=0, index=indices).split([train_cnt, valid_cnt, test_cnt],dim=0)\n",
    "\n",
    "for x_n, y_n in zip(x, y):\n",
    "    print(x_n.size(), y_n.size())"
   ]
  },
  {
   "cell_type": "code",
   "execution_count": 991,
   "id": "442c7dea",
   "metadata": {},
   "outputs": [],
   "source": [
    "class Custom_Dataset(Dataset):\n",
    "    def __init__(self, data, labels):\n",
    "        self.data = data\n",
    "        self.labels = labels\n",
    "        super().__init__()\n",
    "    def __len__(self):\n",
    "        return len(self.data)\n",
    "    def __getitem__(self, idx):\n",
    "        return self.data[idx], self.labels[idx]"
   ]
  },
  {
   "cell_type": "code",
   "execution_count": 992,
   "id": "52922fb1",
   "metadata": {},
   "outputs": [],
   "source": [
    "batch_size = 128\n",
    "early_stop = 100\n",
    "n_epoch = 10000\n",
    "print_interval = 500"
   ]
  },
  {
   "cell_type": "code",
   "execution_count": 993,
   "id": "24772d7f",
   "metadata": {},
   "outputs": [],
   "source": [
    "train_loader = DataLoader(dataset = Custom_Dataset(x[0], y[0]),\n",
    "                          batch_size = batch_size,\n",
    "                          shuffle = True\n",
    "                         )\n",
    "\n",
    "valid_loader = DataLoader(dataset = Custom_Dataset(x[1], y[1]),\n",
    "                          batch_size = batch_size,\n",
    "                          shuffle = False\n",
    "                         )\n",
    "\n",
    "test_loader = DataLoader(dataset = Custom_Dataset(x[2], y[2]),\n",
    "                          batch_size = batch_size,\n",
    "                          shuffle = False\n",
    "                         )"
   ]
  },
  {
   "cell_type": "code",
   "execution_count": 994,
   "id": "0ec625c7",
   "metadata": {},
   "outputs": [
    {
     "name": "stdout",
     "output_type": "stream",
     "text": [
      "341 113 115\n"
     ]
    }
   ],
   "source": [
    "print(len(train_loader.dataset), len(valid_loader.dataset), len(test_loader.dataset))"
   ]
  },
  {
   "cell_type": "code",
   "execution_count": 995,
   "id": "f404a131",
   "metadata": {},
   "outputs": [
    {
     "data": {
      "text/plain": [
       "My_model(\n",
       "  (linear1): Linear(in_features=10, out_features=9, bias=True)\n",
       "  (linear2): Linear(in_features=9, out_features=8, bias=True)\n",
       "  (linear3): Linear(in_features=8, out_features=7, bias=True)\n",
       "  (linear4): Linear(in_features=7, out_features=6, bias=True)\n",
       "  (linear5): Linear(in_features=6, out_features=5, bias=True)\n",
       "  (linear6): Linear(in_features=5, out_features=4, bias=True)\n",
       "  (linear7): Linear(in_features=4, out_features=3, bias=True)\n",
       "  (linear8): Linear(in_features=3, out_features=2, bias=True)\n",
       "  (linear9): Linear(in_features=2, out_features=1, bias=True)\n",
       "  (act1): LeakyReLU(negative_slope=0.01)\n",
       "  (act2): Sigmoid()\n",
       ")"
      ]
     },
     "execution_count": 995,
     "metadata": {},
     "output_type": "execute_result"
    }
   ],
   "source": [
    "class Mymodel(nn.Module):\n",
    "    def __init__(self, input_dim, output_dim):\n",
    "        self.input_dim = input_dim\n",
    "        self.output_dim = output_dim\n",
    "        super().__init__()\n",
    "        \n",
    "        self.linear1 = nn.Linear(input_dim, 9)\n",
    "        self.linear2 = nn.Linear(9, 8)\n",
    "        self.linear3 = nn.Linear(8, 7)\n",
    "        self.linear4 = nn.Linear(7, 6)\n",
    "        self.linear5 = nn.Linear(6, 5)\n",
    "        self.linear6 = nn.Linear(5, 4)\n",
    "        self.linear7 = nn.Linear(4, 3)\n",
    "        self.linear8 = nn.Linear(3, 2)\n",
    "        self.linear9 = nn.Linear(2, output_dim)\n",
    "        self.act1 = nn.LeakyReLU()\n",
    "        self.act2 = nn.sigmoid()\n",
    "        \n",
    "    def forward(self, x):\n",
    "        h = self.act1(self.linear1(x))\n",
    "        h = self.act1(self.linear2(h))\n",
    "        h = self.act1(self.linear3(h))\n",
    "        h = self.act1(self.linear4(h))\n",
    "        h = self.act1(self.linear5(h))\n",
    "        h = self.act1(self.linear6(h))\n",
    "        h = self.act1(self.linear7(h))\n",
    "        h = self.act1(self.linear8(h))\n",
    "        h = self.linear9(h)\n",
    "        h = self.act2(h)\n",
    "        return h\n",
    "        \n",
    "        \n",
    "model = My_model(x[0].size(-1), y[0].size(-1))\n",
    "model"
   ]
  },
  {
   "cell_type": "code",
   "execution_count": 996,
   "id": "3e381cf7",
   "metadata": {},
   "outputs": [],
   "source": [
    "optimizer = optim.Adam(model.parameters())"
   ]
  },
  {
   "cell_type": "code",
   "execution_count": 997,
   "id": "84a64c67",
   "metadata": {},
   "outputs": [
    {
     "name": "stdout",
     "output_type": "stream",
     "text": [
      "torch.Size([128, 10]) torch.Size([128, 1])\n",
      "torch.Size([128, 10]) torch.Size([128, 1])\n",
      "torch.Size([85, 10]) torch.Size([85, 1])\n"
     ]
    }
   ],
   "source": [
    "for xx, yy in train_loader:\n",
    "    print(xx.size(), yy.size())"
   ]
  },
  {
   "cell_type": "code",
   "execution_count": 998,
   "id": "1bd6d103",
   "metadata": {},
   "outputs": [],
   "source": [
    "lowest_loss = np.inf\n",
    "lowest_epoch = np.inf\n",
    "best_model = None"
   ]
  },
  {
   "cell_type": "code",
   "execution_count": 999,
   "id": "1ce757b0",
   "metadata": {
    "scrolled": true
   },
   "outputs": [
    {
     "name": "stdout",
     "output_type": "stream",
     "text": [
      "Epoch = 500/ train_loss = 0.263477087020874 / valid_loss = 0.2237762212753296 / lowest_loss = 0.21028877794742584\n",
      "Epoch = 1000/ train_loss = 0.21393385032812753 / valid_loss = 0.16670365631580353 / lowest_loss = 0.1540950983762741\n",
      "Epoch = 1500/ train_loss = 0.19070973495642343 / valid_loss = 0.1407185196876526 / lowest_loss = 0.12999020516872406\n",
      "Epoch = 2000/ train_loss = 0.18495723605155945 / valid_loss = 0.12411538511514664 / lowest_loss = 0.10765442252159119\n",
      "[Early_stop] Lowest_loss :0.09738846123218536 / Train_loss : 0.17067816853523254 / Valid_loss : 0.09970398247241974\n"
     ]
    }
   ],
   "source": [
    "train_history, valid_history = [], []\n",
    "\n",
    "for i in range(n_epoch):\n",
    "    model.train()\n",
    "    train_loss, valid_loss = 0, 0\n",
    "    y_hat = []\n",
    "    \n",
    "    for x_i, y_i in train_loader:\n",
    "        y_hat_i = model(x_i)\n",
    "        loss = F.binary_cross_entropy(y_hat_i, y_i)\n",
    "        optimizer.zero_grad()\n",
    "        \n",
    "        loss.backward()\n",
    "        optimizer.step()\n",
    "        \n",
    "        train_loss += float(loss)\n",
    "    train_loss = train_loss / len(train_loader)\n",
    "    \n",
    "    model.eval()\n",
    "    with torch.no_grad():\n",
    "        valid_loss = 0\n",
    "        for x_i, y_i in valid_loader:\n",
    "            y_hat_i = model(x_i)\n",
    "            loss = F.binary_cross_entropy(y_hat_i, y_i)\n",
    "            \n",
    "            valid_loss += float(loss)\n",
    "            y_hat.append(y_hat_i)\n",
    "            \n",
    "    valid_loss = valid_loss / len(valid_loader)\n",
    "\n",
    "    train_history.append(train_loss)\n",
    "    valid_history.append(valid_loss)\n",
    "\n",
    "    if (i+1) % print_interval == 0:\n",
    "        print(f'Epoch = {i+1}/ train_loss = {train_loss} / valid_loss = {valid_loss} / lowest_loss = {lowest_loss}')\n",
    "    \n",
    "    if valid_loss <= lowest_loss:\n",
    "        lowest_loss = valid_loss\n",
    "        lowest_epoch = i\n",
    "        best_model = deepcopy(model.state_dict())\n",
    "    \n",
    "    else : \n",
    "        if early_stop > 0 and lowest_epoch + early_stop < i+1:\n",
    "            print(f'[Early_stop] Lowest_loss :{lowest_loss} / Train_loss : {train_loss} / Valid_loss : {valid_loss}')\n",
    "            break\n",
    "\n",
    "# model.load_state_dict(best_model)"
   ]
  },
  {
   "cell_type": "code",
   "execution_count": 1000,
   "id": "312d5e28",
   "metadata": {},
   "outputs": [
    {
     "data": {
      "image/png": "[encoded data removed]",
      "text/plain": [
       "<Figure size 1440x720 with 1 Axes>"
      ]
     },
     "metadata": {
      "needs_background": "light"
     },
     "output_type": "display_data"
    }
   ],
   "source": [
    "plot_from = 2\n",
    "\n",
    "plt.figure(figsize=(20, 10))\n",
    "plt.grid(True)\n",
    "plt.title(\"Train / Valid Loss History\")\n",
    "plt.plot(\n",
    "    range(plot_from, len(train_history)), train_history[plot_from:],\n",
    "    range(plot_from, len(valid_history)), valid_history[plot_from:],\n",
    ")\n",
    "plt.yscale('log')\n",
    "plt.show()"
   ]
  },
  {
   "cell_type": "code",
   "execution_count": 1001,
   "id": "d186061e",
   "metadata": {},
   "outputs": [
    {
     "name": "stdout",
     "output_type": "stream",
     "text": [
      "Test_loss : 0.2331 / Test_Accuracy : 0.8870\n"
     ]
    }
   ],
   "source": [
    "test_loss = 0\n",
    "y_hat = []\n",
    "\n",
    "with torch.no_grad():\n",
    "    for x_i, y_i in test_loader:\n",
    "        y_hat_i = model(x_i)\n",
    "        loss = F.binary_cross_entropy(y_hat_i, y_i)\n",
    "\n",
    "        test_loss += loss\n",
    "        y_hat.append(y_hat_i)\n",
    "    test_loss = test_loss / len(test_loader)\n",
    "    y_hat = torch.cat(y_hat, dim=0)\n",
    "\n",
    "    answer_cnt = (y[2] == (y_hat>.5)).sum()\n",
    "    total_cnt = len(y[2])\n",
    "\n",
    "print(f'Test_loss : {test_loss:.4f} / Test_Accuracy : {answer_cnt / total_cnt :.4f}')\n"
   ]
  },
  {
   "cell_type": "markdown",
   "id": "8c4fc8b9",
   "metadata": {},
   "source": [
    "## AUC-ROC curve"
   ]
  },
  {
   "cell_type": "markdown",
   "id": "09b59fce",
   "metadata": {},
   "source": [
    "### Reference\n",
    "- https://velog.io/@sset2323/03-03.-%EC%A0%95%EB%B0%80%EB%8F%84%EC%99%80-%EC%9E%AC%ED%98%84%EC%9C%A8\n",
    "- https://sumniya.tistory.com/26"
   ]
  },
  {
   "cell_type": "markdown",
   "id": "1087eed7",
   "metadata": {},
   "source": [
    "- ROC curve : binary classification(이진분류)의 성능을 측정하는 기준, 도구\n",
    "- X축이 FPR(실제로는 음성인데, 양성으로 잘못 분류), Y축이 TPR(실제로는 양성인데 음성으로 잘못분류) - trade off의 성격을 가짐\n",
    "- 정밀도(Precision) : 모델이 양성으로 분류한 것 중 실제로 양성인것의 비율(참인에 참으로 맞출 확률) -> TP/TP+FP\n",
    "- 재현율(Recall) : 실제 양성인것중 모델이 양성으로 예측한것의 비율(참으로 예측했는데 참일 확률) -> TP/TP+FN\n",
    "\n",
    "위 정밀도와 재현율의 문제점은, 참일 경우만을 표본으로 삼았기에, 거짓을 거짓으로 맞춘것을 맞춘것으로 보지 않고있다. 이 부분을 고려할 수 있는것이 '정확도'임\n",
    "\n",
    "- 정확도(Accuracy) : 참이든 거짓이든 정답과 비교하여 맞춘비율(문제점 : 데이터가 불균형하여, 참이나 거짓으로 쏠려있을 경우 높게 나오는 문제)\n",
    "- F1 Score : 정확도"
   ]
  },
  {
   "cell_type": "code",
   "execution_count": 1010,
   "id": "c7242670",
   "metadata": {},
   "outputs": [],
   "source": [
    "yy = [1 if i>.5 else 0 for i in y_hat_i]"
   ]
  },
  {
   "cell_type": "code",
   "execution_count": 1034,
   "id": "a2d5c909",
   "metadata": {},
   "outputs": [],
   "source": [
    "from sklearn.metrics import precision_recall_curve, roc_curve, classification_report, accuracy_score, confusion_matrix, precision_score, recall_score\n"
   ]
  },
  {
   "cell_type": "code",
   "execution_count": 1049,
   "id": "d051f53e",
   "metadata": {},
   "outputs": [
    {
     "name": "stdout",
     "output_type": "stream",
     "text": [
      "1)Accuracy(정확도) : 0.8870\n",
      "2)Precision(정밀도) : 0.8451\n",
      "3)Recall(재현율) : 0.9677\n",
      "========================================\n",
      "1.TN(양성을 음성으로) 42/115건 (0.3652)\n",
      "2.FN(음성을 양성으로) 2/115건 (0.0174)\n",
      "3.FP(음성을 음성으로) 11/115건 (0.0957)\n",
      "4.TP(양성을 양성으로) 60/115건 (0.5217)\n"
     ]
    }
   ],
   "source": [
    "# trade off 관계인 정밀도와 재현율을 적절한 위치에서 조절하기 위해서는 아무래도 sigmoid(혹은 ReLU등)와 같은 \n",
    "# 활성함수를 통과한 확률값을 참으로 인식하는 threshold를 조절하여 셋팅할 수 있을듯.\n",
    "\n",
    "print(f'1)Accuracy(정확도) : {accuracy_score(y[2] , yy):.4f}')\n",
    "print(f'2)Precision(정밀도) : {precision_score(y[2], yy):.4f}')\n",
    "print(f'3)Recall(재현율) : {recall_score(y[2], yy):.4f}')\n",
    "print(\"==\"*20)\n",
    "confusion = confusion_matrix(y[2], yy)\n",
    "\n",
    "tn = confusion[0][0]\n",
    "fn = confusion[1][0]\n",
    "fp = confusion[0][1]\n",
    "tp = confusion[1][1]\n",
    "\n",
    "print(f'1.TN(양성을 음성으로) {tn}/{len(y[2])}건 ({tn/len(y[2]):.4f})') \n",
    "print(f'2.FN(음성을 양성으로) {fn}/{len(y[2])}건 ({fn/len(y[2]):.4f})') \n",
    "print(f'3.FP(음성을 음성으로) {fp}/{len(y[2])}건 ({fp/len(y[2]):.4f})')\n",
    "print(f'4.TP(양성을 양성으로) {tp}/{len(y[2])}건 ({tp/len(y[2]):.4f})')"
   ]
  },
  {
   "cell_type": "code",
   "execution_count": 1011,
   "id": "4107e430",
   "metadata": {},
   "outputs": [
    {
     "name": "stdout",
     "output_type": "stream",
     "text": [
      "              precision    recall  f1-score   support\n",
      "\n",
      "         0.0       0.95      0.79      0.87        53\n",
      "         1.0       0.85      0.97      0.90        62\n",
      "\n",
      "    accuracy                           0.89       115\n",
      "   macro avg       0.90      0.88      0.88       115\n",
      "weighted avg       0.90      0.89      0.89       115\n",
      "\n"
     ]
    }
   ],
   "source": [
    "print(classification_report(y[2], yy))"
   ]
  },
  {
   "cell_type": "code",
   "execution_count": 1052,
   "id": "158192ba",
   "metadata": {},
   "outputs": [
    {
     "data": {
      "image/png": "[encoded data removed]",
      "text/plain": [
       "<Figure size 576x432 with 1 Axes>"
      ]
     },
     "metadata": {
      "needs_background": "light"
     },
     "output_type": "display_data"
    }
   ],
   "source": [
    "from sklearn.metrics import roc_curve\n",
    "\n",
    "import matplotlib.pyplot as plt\n",
    "import matplotlib.ticker as ticker\n",
    "%matplotlib inline\n",
    "\n",
    "def precision_recall_curve_plot(y_test , pred_proba_c1):\n",
    "    # threshold ndarray와 이 threshold에 따른 정밀도, 재현율 ndarray 추출. \n",
    "    precisions, recalls, thresholds = precision_recall_curve(y_test, pred_proba_c1)\n",
    "  \n",
    "    # X축을 threshold값으로, Y축은 정밀도, 재현율 값으로 각각 Plot 수행. 정밀도는 점선으로 표시\n",
    "    plt.figure(figsize=(8,6))\n",
    "    threshold_boundary = thresholds.shape[0]\n",
    "    plt.plot(thresholds, precisions[0:threshold_boundary], linestyle='--', label='precision')\n",
    "    plt.plot(thresholds, recalls[0:threshold_boundary],label='recall')\n",
    "  \n",
    "    # threshold 값 X 축의 Scale을 0.1 단위로 변경\n",
    "    start, end = plt.xlim()\n",
    "    plt.xticks(np.round(np.arange(start, end, 0.1),2))\n",
    "  \n",
    "    # x축, y축 label과 legend, 그리고 grid 설정\n",
    "    plt.xlabel('Threshold value'); plt.ylabel('Precision and Recall value')\n",
    "    plt.legend(); plt.grid()\n",
    "    plt.show()\n",
    "  \n",
    "precision_recall_curve_plot(y[2], y_hat)"
   ]
  },
  {
   "cell_type": "markdown",
   "id": "d83daf59",
   "metadata": {},
   "source": [
    "- threshold 약 0.8정도에서 recall score와 precision score가 가장 높은(균형)형태를 이루므로 가장 적합한 threshold 수치라고 볼 수 있다."
   ]
  },
  {
   "cell_type": "code",
   "execution_count": null,
   "id": "e527590c",
   "metadata": {},
   "outputs": [],
   "source": []
  }
 ],
 "metadata": {
  "kernelspec": {
   "display_name": "Python 3 (ipykernel)",
   "language": "python",
   "name": "python3"
  },
  "language_info": {
   "codemirror_mode": {
    "name": "ipython",
    "version": 3
   },
   "file_extension": ".py",
   "mimetype": "text/x-python",
   "name": "python",
   "nbconvert_exporter": "python",
   "pygments_lexer": "ipython3",
   "version": "3.9.7"
  }
 },
 "nbformat": 4,
 "nbformat_minor": 5
}
